{
 "cells": [
  {
   "cell_type": "markdown",
   "metadata": {},
   "source": [
    "#  <center>Coursera Capstone: Battle of the neighbourhoods </center>"
   ]
  },
  {
   "cell_type": "markdown",
   "metadata": {},
   "source": [
    "### <center> Finding the best neighbourhood in Mumbai to open a Thai restaurant </center>"
   ]
  },
  {
   "cell_type": "markdown",
   "metadata": {},
   "source": [
    "<img src=\"Pad-Thai-in-Bangkok.jpg\">\n",
    "\n",
    "<font size=\"0.5\">image credit: https://www.desiam.com/blogs/post/The-forgotten-history-of-Pad-Thai</font>\n",
    "\n",
    "\n",
    "\n",
    "\n",
    "\n"
   ]
  },
  {
   "cell_type": "markdown",
   "metadata": {},
   "source": [
    "### Introduction\n",
    "This project is defined on the basis of available data on the city of Mumbai.\n",
    "\n",
    "The metropolitan city of Mumbai is the most populous city in India and is also the financial capital of the country. It is a major economic hub, and with a touch of both, the rustic and modern elements, it attracts people from all over the world.\n",
    "\n",
    "In a hypothetical scenario, a successful hotelier and owner of a chain of Asian restaurants called \"Thai Jasmin\", wishes to open another one, in India. This is his first restaurant in the country, and after several business visits, Mumbai seemed the most obvious choice due to its vibrancy and charm. It is not a cheap investment though, and hence he needs to be careful in his selection of a location in Mumbai: a non-trivial process.\n",
    "\n",
    "\n"
   ]
  },
  {
   "cell_type": "markdown",
   "metadata": {},
   "source": [
    "### Defining the problem\n",
    "\n",
    "The idea behind this exercise is to find the best neighbourhood in Mumbai for the restaurant to run successfully and attract both foreigners as well as local residents. There are several factors to consider here, and some more that are out-of scope for this project, but should be considered nonetheless.\n",
    "\n",
    "- Finding the most popular neighbourhoods based on all venues: Monuments, shopping places, restaurants etc.\n",
    "- In these popular neighbourhoods, finding the highest density of restaurants\n",
    "- And then narrowing down to the number of Thai restaurants\n",
    "\n",
    "### Other things to consider (out of scope due to lack of data)\n",
    "- Commercial Rental prices: Whether within budget or not\n",
    "- density of population around the location: Segregate residential population from non-residential\n",
    "- etc\n",
    "\n",
    "\n",
    "### Methodology \n",
    "- scrape information from a website providing the various major neighbourhoods in Mumbai along with their postal codes\n",
    "- Collect coordinates for these localities from another table obtained through private communication.\n",
    "- Use the Foursquare API to collect venue data for all these neighbourhoods\n",
    "- Perform k-means clustering and create clusters of neighbourhoods from the data collected.\n",
    "- Recommend the best location for opening a Thai restaurant in Mumbai\n",
    "\n",
    "\n"
   ]
  }
 ],
 "metadata": {
  "kernelspec": {
   "display_name": "Python 3",
   "language": "python",
   "name": "python3"
  },
  "language_info": {
   "codemirror_mode": {
    "name": "ipython",
    "version": 3
   },
   "file_extension": ".py",
   "mimetype": "text/x-python",
   "name": "python",
   "nbconvert_exporter": "python",
   "pygments_lexer": "ipython3",
   "version": "3.7.4"
  }
 },
 "nbformat": 4,
 "nbformat_minor": 2
}
